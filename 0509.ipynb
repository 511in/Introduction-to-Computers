{
  "nbformat": 4,
  "nbformat_minor": 0,
  "metadata": {
    "colab": {
      "name": "0509.ipynb",
      "provenance": [],
      "authorship_tag": "ABX9TyOLW8lZ2C47i0OSPBqO03c0",
      "include_colab_link": true
    },
    "kernelspec": {
      "name": "python3",
      "display_name": "Python 3"
    },
    "language_info": {
      "name": "python"
    }
  },
  "cells": [
    {
      "cell_type": "markdown",
      "metadata": {
        "id": "view-in-github",
        "colab_type": "text"
      },
      "source": [
        "<a href=\"https://colab.research.google.com/github/511in/Introduction-to-Computers/blob/main/0509.ipynb\" target=\"_parent\"><img src=\"https://colab.research.google.com/assets/colab-badge.svg\" alt=\"Open In Colab\"/></a>"
      ]
    },
    {
      "cell_type": "code",
      "execution_count": null,
      "metadata": {
        "colab": {
          "base_uri": "https://localhost:8080/"
        },
        "id": "HLvNiH6T7xeR",
        "outputId": "de0454fe-d2ca-49cd-b762-4ad88015cc00"
      },
      "outputs": [
        {
          "output_type": "stream",
          "name": "stdout",
          "text": [
            "123\n"
          ]
        }
      ],
      "source": [
        "print(\"123\")"
      ]
    },
    {
      "cell_type": "code",
      "source": [
        "temp = float(input(\"請輸入你的體溫\"))\n",
        "if temp >= 37.5:\n",
        "    print(\"體溫過高！\")\n",
        "elif temp >= 37 and temp <37.4:\n",
        "    print(\"體溫略高！\")\n",
        "else:\n",
        "    print(\"體溫異常，請重新量測！\")"
      ],
      "metadata": {
        "colab": {
          "base_uri": "https://localhost:8080/"
        },
        "id": "hiDYY2djBwXv",
        "outputId": "27ce70f7-e4d0-47a9-ad20-8bbde7a74dc0"
      },
      "execution_count": null,
      "outputs": [
        {
          "output_type": "stream",
          "name": "stdout",
          "text": [
            "請輸入你的體溫36\n",
            "體溫異常，請重新量測！\n"
          ]
        }
      ]
    },
    {
      "cell_type": "code",
      "source": [
        "score = input(\"請輸入成績\")\n",
        "if(int(score) >= 90):\n",
        "    print(\"A\")\n",
        "elif(int(score) >= 80):\n",
        "    print(\"B\")\n",
        "elif(int(score) >= 70):\n",
        "    print(\"C\")\n",
        "elif(int(score) >= 60):\n",
        "    print(\"D\")\n",
        "else:\n",
        "    print(\"E\")"
      ],
      "metadata": {
        "colab": {
          "base_uri": "https://localhost:8080/"
        },
        "id": "A5USdWzOEd8i",
        "outputId": "9d2750c3-c801-4e71-ac9e-d51618592e71"
      },
      "execution_count": null,
      "outputs": [
        {
          "output_type": "stream",
          "name": "stdout",
          "text": [
            "請輸入成績45\n",
            "E\n"
          ]
        }
      ]
    },
    {
      "cell_type": "code",
      "source": [
        "money = int(input(\"請輸入購物金額\"))\n",
        "if(money >= 10000):\n",
        "  if(money >= 100000):\n",
        "    print(\"八折\",money*0.8,end=\"元\\n\")\n",
        "  elif(money >= 50000):\n",
        "    print(\"八五折\",money*0.85,end=\"元\\n\")\n",
        "  elif(money >= 30000):\n",
        "    print(\"九折\",money*0.9,end=\"元\\n\")\n",
        "  else:\n",
        "    print(\"九五折\",money*0.9,end=\"元\\n\")\n",
        "else:\n",
        "  print(\"沒打折\",money,end=\"元\\n\")"
      ],
      "metadata": {
        "colab": {
          "base_uri": "https://localhost:8080/"
        },
        "id": "Wa14e3YHFUyj",
        "outputId": "4cc238a2-6c81-4765-d09f-6040de860f8d"
      },
      "execution_count": null,
      "outputs": [
        {
          "output_type": "stream",
          "name": "stdout",
          "text": [
            "請輸入購物金額40000\n",
            "九折 36000.0元\n"
          ]
        }
      ]
    },
    {
      "cell_type": "code",
      "source": [
        "month = int(input(\"請輸入月份\"))\n",
        "if month <= 12:\n",
        "  if month >= 3 and month <= 5:\n",
        "    print(month,str(\"月是春天\"))\n",
        "  elif month >= 6 and month <= 8:\n",
        "    print(month,str(\"月是夏天\"))\n",
        "  elif month >= 9 and month <= 11:\n",
        "    print(month,str(\"月是秋天\"))\n",
        "  else:\n",
        "    print(month,str(\"月是冬天\"))\n",
        "else:\n",
        "    print(month,str(\"月份不在範圍內\")) "
      ],
      "metadata": {
        "id": "kGnUkRMsH6mM",
        "colab": {
          "base_uri": "https://localhost:8080/"
        },
        "outputId": "0b858b23-6ffc-4209-dc97-748095e0234c"
      },
      "execution_count": 2,
      "outputs": [
        {
          "output_type": "stream",
          "name": "stdout",
          "text": [
            "請輸入月份3\n",
            "3 月是春天\n"
          ]
        }
      ]
    },
    {
      "cell_type": "code",
      "source": [
        "revenue = float(input(\"請輸入今年收入淨額\"))\n",
        "if(revenue>=2000000):\n",
        "  print(\"付稅金額為:\", revenue*0.3, end=\"元\\n\")\n",
        "elif(revenue>1000000):\n",
        "  print(\"付稅金額為:\", revenue*0.21, end=\"元\\n\")\n",
        "elif(revenue>6000000):\n",
        "  print(\"付稅金額為:\", revenue*0.13, end=\"元\\n\")\n",
        "elif(revenue>3000000):\n",
        "  print(\"付稅金額為:\", revenue*0.06, end=\"元\\n\")\n",
        "else:\n",
        "  print(\"付稅金額為:0元\")"
      ],
      "metadata": {
        "colab": {
          "base_uri": "https://localhost:8080/"
        },
        "id": "-DlZNxODCdk0",
        "outputId": "31d6d5d1-4734-4a85-fd7e-fcb7f77ffe45"
      },
      "execution_count": 14,
      "outputs": [
        {
          "output_type": "stream",
          "name": "stdout",
          "text": [
            "請輸入今年收入淨額2000000\n",
            "付稅金額為: 600000.0元\n"
          ]
        }
      ]
    }
  ]
}