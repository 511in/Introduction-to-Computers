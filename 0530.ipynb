{
  "nbformat": 4,
  "nbformat_minor": 0,
  "metadata": {
    "colab": {
      "name": "0530.ipynb",
      "provenance": [],
      "authorship_tag": "ABX9TyOQHqNXwHDpR3UYIsEn6k/7",
      "include_colab_link": true
    },
    "kernelspec": {
      "name": "python3",
      "display_name": "Python 3"
    },
    "language_info": {
      "name": "python"
    }
  },
  "cells": [
    {
      "cell_type": "markdown",
      "metadata": {
        "id": "view-in-github",
        "colab_type": "text"
      },
      "source": [
        "<a href=\"https://colab.research.google.com/github/511in/Introduction-to-Computers/blob/main/0530.ipynb\" target=\"_parent\"><img src=\"https://colab.research.google.com/assets/colab-badge.svg\" alt=\"Open In Colab\"/></a>"
      ]
    },
    {
      "cell_type": "code",
      "execution_count": 1,
      "metadata": {
        "colab": {
          "base_uri": "https://localhost:8080/"
        },
        "id": "MjE2UzanoC9N",
        "outputId": "a96945c0-bc4b-4724-c4e3-6a0ed4a97ca1"
      },
      "outputs": [
        {
          "output_type": "stream",
          "name": "stdout",
          "text": [
            "2*1= 22*2= 42*3= 62*4= 82*5=102*6=122*7=142*8=162*9=18\n",
            "3*1= 33*2= 63*3= 93*4=123*5=153*6=183*7=213*8=243*9=27\n",
            "4*1= 44*2= 84*3=124*4=164*5=204*6=244*7=284*8=324*9=36\n",
            "5*1= 55*2=105*3=155*4=205*5=255*6=305*7=355*8=405*9=45\n",
            "6*1= 66*2=126*3=186*4=246*5=306*6=366*7=426*8=486*9=54\n",
            "7*1= 77*2=147*3=217*4=287*5=357*6=427*7=497*8=567*9=63\n",
            "8*1= 88*2=168*3=248*4=328*5=408*6=488*7=568*8=648*9=72\n",
            "9*1= 99*2=189*3=279*4=369*5=459*6=549*7=639*8=729*9=81\n"
          ]
        }
      ],
      "source": [
        "for i in range(2,10):\n",
        "    for j in range(1,10):\n",
        "        product = i*j\n",
        "        print(\"%d*%d=%2d\" % (i,j,product),end=\"\")\n",
        "    print( )"
      ]
    },
    {
      "cell_type": "code",
      "source": [
        "a=int(input(\"請輸入a的值\"))\n",
        "b=int(input(\"請輸入b的值\"))\n",
        "\n",
        "maxno=a*b\n",
        "for i in range (1,maxno+1):\n",
        "    if(i%a==0 and i%b==0):\n",
        "      break\n",
        "print(\"%d和%d的最小公倍數=%d\" %(a,b,i))"
      ],
      "metadata": {
        "colab": {
          "base_uri": "https://localhost:8080/"
        },
        "id": "pLtlaWtnoKTR",
        "outputId": "feeccba1-73ec-4e92-b333-867ca45b4c20"
      },
      "execution_count": 2,
      "outputs": [
        {
          "output_type": "stream",
          "name": "stdout",
          "text": [
            "請輸入a的值10\n",
            "請輸入b的值90\n",
            "10和90的最小公倍數=90\n"
          ]
        }
      ]
    },
    {
      "cell_type": "code",
      "source": [
        "n=int(input(\"請輸入正整數\"))\n",
        "for i in range(1,n+1):\n",
        "    if i % 5 == 0:\n",
        "        continue\n",
        "    print(i,end=\" \")"
      ],
      "metadata": {
        "colab": {
          "base_uri": "https://localhost:8080/"
        },
        "id": "BbNQm-aBoOCJ",
        "outputId": "1ec1cdc9-c42b-4dad-ac38-225461286833"
      },
      "execution_count": 13,
      "outputs": [
        {
          "output_type": "stream",
          "name": "stdout",
          "text": [
            "請輸入正整數10\n",
            "1 2 3 4 6 7 8 9 "
          ]
        }
      ]
    },
    {
      "cell_type": "code",
      "source": [
        "total=n=0\n",
        "while (n<=10):\n",
        "    total+=n\n",
        "    n+=1\n",
        "print(total)"
      ],
      "metadata": {
        "colab": {
          "base_uri": "https://localhost:8080/"
        },
        "id": "256UNWd2oUSd",
        "outputId": "c27b0995-e9ed-451e-bc0f-330f02509680"
      },
      "execution_count": 4,
      "outputs": [
        {
          "output_type": "stream",
          "name": "stdout",
          "text": [
            "55\n"
          ]
        }
      ]
    },
    {
      "cell_type": "code",
      "source": [
        "total = i = 1\n",
        "n=int(input(\"請輸入正整數n的值:\"))\n",
        "while (i<=n):\n",
        "  total*=i\n",
        "  i+=1\n",
        "print(\"%d!=%d\" % (n,total))"
      ],
      "metadata": {
        "colab": {
          "base_uri": "https://localhost:8080/"
        },
        "id": "udp-146YoXkV",
        "outputId": "a1fe185c-644b-4d18-ec2c-2909f7e89ddf"
      },
      "execution_count": 5,
      "outputs": [
        {
          "output_type": "stream",
          "name": "stdout",
          "text": [
            "請輸入正整數n的值:20\n",
            "20!=2432902008176640000\n"
          ]
        }
      ]
    },
    {
      "cell_type": "code",
      "source": [
        "total=i=0\n",
        "while (i<=50 ):\n",
        "  total+=i\n",
        "  i+=2\n",
        "print(\"0~50的偶數和結果是\",total)"
      ],
      "metadata": {
        "colab": {
          "base_uri": "https://localhost:8080/"
        },
        "id": "TEr5mpJIoaH5",
        "outputId": "e476d707-c504-4646-b05c-9630f35e1fb7"
      },
      "execution_count": 6,
      "outputs": [
        {
          "output_type": "stream",
          "name": "stdout",
          "text": [
            "0~50的偶數和結果是 650\n"
          ]
        }
      ]
    },
    {
      "cell_type": "code",
      "source": [
        "total=i=1\n",
        "while (i<50):\n",
        "    total+=i\n",
        "    i+=2\n",
        "print(\"0~50的奇數和結果是\",(total-1))"
      ],
      "metadata": {
        "colab": {
          "base_uri": "https://localhost:8080/"
        },
        "id": "48RCZQkrocy-",
        "outputId": "1ea453b8-46db-4027-c5e7-4da83b0dc4a3"
      },
      "execution_count": 7,
      "outputs": [
        {
          "output_type": "stream",
          "name": "stdout",
          "text": [
            "0~50的奇數和結果是 625\n"
          ]
        }
      ]
    },
    {
      "cell_type": "code",
      "source": [
        "n=int(input(\"請輸入正整數：\"))\n",
        "for i in range(n,0,-1):\n",
        "    for j in range(i,0,-1):\n",
        "      print(\"*\",end=\"\")\n",
        "    print()"
      ],
      "metadata": {
        "colab": {
          "base_uri": "https://localhost:8080/"
        },
        "id": "6Alx2W3VohQa",
        "outputId": "0790acdc-63ba-4dc5-f114-a85ff4cb7ed9"
      },
      "execution_count": 9,
      "outputs": [
        {
          "output_type": "stream",
          "name": "stdout",
          "text": [
            "請輸入正整數：10\n",
            "**********\n",
            "*********\n",
            "********\n",
            "*******\n",
            "******\n",
            "*****\n",
            "****\n",
            "***\n",
            "**\n",
            "*\n"
          ]
        }
      ]
    },
    {
      "cell_type": "code",
      "source": [
        "sum=0\n",
        "for i in range(1,101):\n",
        "    if (i %3==0 or i%7==0):\n",
        "        sum+=i\n",
        "print(\"數值1～100中,所有是3或7倍數的數的總和=\" +str(sum))"
      ],
      "metadata": {
        "colab": {
          "base_uri": "https://localhost:8080/"
        },
        "id": "W3gefjMtoliM",
        "outputId": "5537a6ec-1829-4705-d441-38f265957d70"
      },
      "execution_count": 10,
      "outputs": [
        {
          "output_type": "stream",
          "name": "stdout",
          "text": [
            "數值1～100中,所有是3或7倍數的數的總和=2208\n"
          ]
        }
      ]
    },
    {
      "cell_type": "code",
      "source": [
        "n = int(input(\"請輸入正整數:\"))\n",
        "list1 = [i for i in range(1,n+1)]\n",
        "list2 = list1[::-1]\n",
        "list3 = []\n",
        "for a in list1:\n",
        "  for b in list2:\n",
        "    if a*b==n:\n",
        "      list3.append(a)\n",
        "print(n,\"的因數有\",list3)\n",
        "\n",
        "c=2\n",
        "while c<n:\n",
        "        if n%c==0:\n",
        "              print('不是質數')\n",
        "              break\n",
        "        c+=1\n",
        "if c==n:\n",
        "      print('是質數')"
      ],
      "metadata": {
        "colab": {
          "base_uri": "https://localhost:8080/"
        },
        "id": "tgCIB2V4qaYE",
        "outputId": "3c98ad81-b0e7-4a5f-91c5-f641e3be5683"
      },
      "execution_count": 12,
      "outputs": [
        {
          "output_type": "stream",
          "name": "stdout",
          "text": [
            "請輸入正整數:12\n",
            "12 的因數有 [1, 2, 3, 4, 6, 12]\n",
            "不是質數\n"
          ]
        }
      ]
    },
    {
      "cell_type": "code",
      "source": [
        "n = int(input(\"請輸入正整數:\"))\n",
        "list1 = [i for i in range(1,n+1)]\n",
        "list2 = list1[::-1]\n",
        "list3 = []\n",
        "for a in list1:\n",
        "  for b in list2:\n",
        "    if a*b==n:\n",
        "      list3.append(a)\n",
        "print(n,\"的因數有\",list3)\n",
        "\n",
        "c=2\n",
        "while c<n:\n",
        "        if n%c==0:\n",
        "              print('不是質數')\n",
        "              break\n",
        "        c+=1\n",
        "if c==n:\n",
        "      print('是質數')"
      ],
      "metadata": {
        "colab": {
          "base_uri": "https://localhost:8080/"
        },
        "id": "Oo118TI3oqej",
        "outputId": "5d12b9f5-311f-473d-b911-0514ea9b8fb4"
      },
      "execution_count": 11,
      "outputs": [
        {
          "output_type": "stream",
          "name": "stdout",
          "text": [
            "請輸入正整數:11\n",
            "11 的因數有 [1, 11]\n",
            "是質數\n"
          ]
        }
      ]
    }
  ]
}